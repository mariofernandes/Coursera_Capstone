{
    "nbformat_minor": 1, 
    "cells": [
        {
            "execution_count": null, 
            "cell_type": "code", 
            "metadata": {}, 
            "outputs": [
                {
                    "output_type": "stream", 
                    "name": "stdout", 
                    "text": "Solving environment: | "
                }
            ], 
            "source": "import pandas as pd\n!conda install -c conda-forge geopy --yes # uncomment this line if you haven't completed the Foursquare API lab\nfrom geopy.geocoders import Nominatim # convert an address into latitude and longitude values\n\nurl='https://en.wikipedia.org/wiki/List_of_postal_codes_of_Canada:_M'\ndf=pd.read_html(url, attrs={'class': 'sortable'}, header=0);\nmyWorkingDF = df[0]\nmyWorkingDF = myWorkingDF[myWorkingDF.Borough != 'Not assigned']\nmyWorkingDF = myWorkingDF.groupby(['Postcode', 'Borough'])['Neighbourhood'].apply(','.join).reset_index()\nmyWorkingDF.loc[myWorkingDF['Neighbourhood']=='Not assigned', 'Neighbourhood']=myWorkingDF['Borough']\n\ngeodata = pd.read_csv('http://cocl.us/Geospatial_data')\ngeodata = geodata.rename(columns={\"Postal Code\": \"Postcode\"})\ngeodata\nmyNewDF = pd.merge(myWorkingDF, geodata, on='Postcode')\nmyNewDF"
        }, 
        {
            "execution_count": null, 
            "cell_type": "code", 
            "metadata": {}, 
            "outputs": [], 
            "source": ""
        }
    ], 
    "metadata": {
        "kernelspec": {
            "display_name": "Python 3.6", 
            "name": "python3", 
            "language": "python"
        }, 
        "language_info": {
            "mimetype": "text/x-python", 
            "nbconvert_exporter": "python", 
            "version": "3.6.8", 
            "name": "python", 
            "file_extension": ".py", 
            "pygments_lexer": "ipython3", 
            "codemirror_mode": {
                "version": 3, 
                "name": "ipython"
            }
        }
    }, 
    "nbformat": 4
}