{
    "nbformat_minor": 1, 
    "cells": [
        {
            "source": "# Problem Background & Description:\nPortugal as become a multicultural country because of mass turism and foreign citizens that decided to move into.\nThis analysis will clear where is the best place to open a restaurant reducing the risk based on population.\n\nThere are a lot of restaurants types suchs as:\nItalian Food;\nChinese Food;\nBrazillian Food;\nTypical Portuguese;\nAfrican Food;\nIndian;\n\nThe ideia is that a the better place to open a restaurant is based on:\nwhere population has higher income;\nPortugal Population;\nPortugal Demographics;\nForeign citizens will perfer food from their countries (e.g. Brazillians likes Brazzilian Food, Angola citizen will prefer African Food, ...);\nIs there competitors in that location? \n", 
            "cell_type": "markdown", 
            "metadata": {
                "collapsed": true
            }
        }, 
        {
            "source": "# Data:\nI will use the Foursquare API to find venues in Portugal where cateregories are related to Food, inside Food Categorie, i will considera only the ones that has the word restaurant (e.g. Afghan Restaurant, African Restaurant, ....)\n\nI will consider 3 majors datasets:\n1. Portugal Population Distribution: \nhttps://www.pordata.pt/Municipios/Popula%c3%a7%c3%a3o+residente+total+e+por+grandes+grupos+et%c3%a1rios-390\n\n2. Foreign citizens relation with regions that they live in Portugal https://www.pordata.pt/Municipios/Popula%c3%a7%c3%a3o+estrangeira+com+estatuto+legal+de+residente+total+e+por+algumas+nacionalidades-101\nIt will be possible to cross this data with Forsquare API data to find lack or excess of restaurants relatated with foreight citizens residents in Portugal.\n\n3. Income ditribution in Portugal\nhttps://www.pordata.pt/Municipios/Propor%c3%a7%c3%a3o+de+poder+de+compra-119", 
            "cell_type": "markdown", 
            "metadata": {}
        }, 
        {
            "source": "# Target Audience:\nThis would interest to investors who wants to start a new restaurant in Portugal", 
            "cell_type": "markdown", 
            "metadata": {}
        }
    ], 
    "metadata": {
        "kernelspec": {
            "display_name": "Python 3.6", 
            "name": "python3", 
            "language": "python"
        }, 
        "language_info": {
            "mimetype": "text/x-python", 
            "nbconvert_exporter": "python", 
            "version": "3.6.8", 
            "name": "python", 
            "file_extension": ".py", 
            "pygments_lexer": "ipython3", 
            "codemirror_mode": {
                "version": 3, 
                "name": "ipython"
            }
        }
    }, 
    "nbformat": 4
}