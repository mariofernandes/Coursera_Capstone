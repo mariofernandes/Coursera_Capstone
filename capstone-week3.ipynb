{
    "nbformat_minor": 1, 
    "cells": [
        {
            "execution_count": 72, 
            "cell_type": "code", 
            "metadata": {}, 
            "outputs": [
                {
                    "execution_count": 72, 
                    "metadata": {}, 
                    "data": {
                        "text/plain": "(103, 3)"
                    }, 
                    "output_type": "execute_result"
                }
            ], 
            "source": "import pandas as pd\n\nurl='https://en.wikipedia.org/wiki/List_of_postal_codes_of_Canada:_M'\ndf=pd.read_html(url, attrs={'class': 'sortable'}, header=0);\n# The dataframe will consist of three columns: PostalCode, Borough, and Neighborhood\nmyWorkingDF = df[0]\n#Only process the cells that have an assigned borough. Ignore cells with a borough that is Not assigned.\nmyWorkingDF = myWorkingDF[myWorkingDF.Borough != 'Not assigned']\n#More than one neighborhood can exist in one postal code area.\nmyWorkingDF = myWorkingDF.groupby(['Postcode', 'Borough'])['Neighbourhood'].apply(','.join).reset_index()\n#If a cell has a borough but a Not assigned neighborhood, then the neighborhood will be the same as the borough.\nmyWorkingDF.loc[myWorkingDF['Neighbourhood']=='Not assigned', 'Neighbourhood']=myWorkingDF['Borough']\nmyWorkingDF.shape"
        }, 
        {
            "execution_count": null, 
            "cell_type": "code", 
            "metadata": {}, 
            "outputs": [], 
            "source": ""
        }
    ], 
    "metadata": {
        "kernelspec": {
            "display_name": "Python 3.6", 
            "name": "python3", 
            "language": "python"
        }, 
        "language_info": {
            "mimetype": "text/x-python", 
            "nbconvert_exporter": "python", 
            "version": "3.6.8", 
            "name": "python", 
            "file_extension": ".py", 
            "pygments_lexer": "ipython3", 
            "codemirror_mode": {
                "version": 3, 
                "name": "ipython"
            }
        }
    }, 
    "nbformat": 4
}